{
 "cells": [
  {
   "cell_type": "markdown",
   "id": "287bd762-349b-40de-83f3-8bf79a5e7fd6",
   "metadata": {},
   "source": [
    "# Limpieza de datos y Análisis de Datos Exploratorio (EDA)\n",
    "Los datos limpios extraidos a travez de SQL, solo evitan aquellos departamentos que tienen faltantes de precios, localización, metros_cuadrados y ambientes. Por lo tanto, aquí voy a realizar una limpieza más allá de esa inicial."
   ]
  },
  {
   "cell_type": "code",
   "execution_count": 1,
   "id": "2a75bd9c-c415-424f-8553-84471faae9d8",
   "metadata": {},
   "outputs": [],
   "source": [
    "import pandas as pd\n",
    "import numpy as np\n",
    "import mysql.connector\n",
    "from mysql.connector import Error\n",
    "\n",
    "conn = mysql.connector.connect(host=\"127.0.0.1\", port=3306, user=\"Juancito\", password=\"0223\", database=\"ZonaProp_db\", charset=\"utf8mb4\", collation=\"utf8mb4_general_ci\")\n",
    "cur = conn.cursor()"
   ]
  },
  {
   "cell_type": "code",
   "execution_count": 2,
   "id": "efa2fd8c-214b-4b85-8cb5-37c77e9a7458",
   "metadata": {
    "scrolled": true
   },
   "outputs": [
    {
     "data": {
      "text/html": [
       "<div>\n",
       "<style scoped>\n",
       "    .dataframe tbody tr th:only-of-type {\n",
       "        vertical-align: middle;\n",
       "    }\n",
       "\n",
       "    .dataframe tbody tr th {\n",
       "        vertical-align: top;\n",
       "    }\n",
       "\n",
       "    .dataframe thead th {\n",
       "        text-align: right;\n",
       "    }\n",
       "</style>\n",
       "<table border=\"1\" class=\"dataframe\">\n",
       "  <thead>\n",
       "    <tr style=\"text-align: right;\">\n",
       "      <th></th>\n",
       "      <th>id</th>\n",
       "      <th>precio</th>\n",
       "      <th>moneda_expensas</th>\n",
       "      <th>expensas</th>\n",
       "      <th>nombre</th>\n",
       "      <th>fotos</th>\n",
       "      <th>localizacion</th>\n",
       "      <th>metros_cuadrados</th>\n",
       "      <th>ambientes</th>\n",
       "      <th>dormitorios</th>\n",
       "      <th>...</th>\n",
       "      <th>antiguedad</th>\n",
       "      <th>disposicion</th>\n",
       "      <th>orientacion</th>\n",
       "      <th>luminosidad</th>\n",
       "      <th>anunciante</th>\n",
       "      <th>anunciante_premium_si_o_no</th>\n",
       "      <th>anunciante_tipo_de_id</th>\n",
       "      <th>wpp_anunciante</th>\n",
       "      <th>url_anunciante</th>\n",
       "      <th>property_type</th>\n",
       "    </tr>\n",
       "  </thead>\n",
       "  <tbody>\n",
       "    <tr>\n",
       "      <th>0</th>\n",
       "      <td>1</td>\n",
       "      <td>4000000.0</td>\n",
       "      <td>None</td>\n",
       "      <td>NaN</td>\n",
       "      <td>Parador Villa Faraz - Gesell - Mar de las Pampas</td>\n",
       "      <td>None</td>\n",
       "      <td>Villa Gesell, Buenos Aires Costa Atlántica</td>\n",
       "      <td>45440.0</td>\n",
       "      <td>NaN</td>\n",
       "      <td>NaN</td>\n",
       "      <td>...</td>\n",
       "      <td>None</td>\n",
       "      <td>None</td>\n",
       "      <td>None</td>\n",
       "      <td>None</td>\n",
       "      <td>None</td>\n",
       "      <td>NaN</td>\n",
       "      <td>None</td>\n",
       "      <td>NaN</td>\n",
       "      <td>None</td>\n",
       "      <td>None</td>\n",
       "    </tr>\n",
       "    <tr>\n",
       "      <th>1</th>\n",
       "      <td>2</td>\n",
       "      <td>1900000.0</td>\n",
       "      <td>None</td>\n",
       "      <td>NaN</td>\n",
       "      <td>Colon  900</td>\n",
       "      <td>None</td>\n",
       "      <td>Stella Maris, Mar del Plata</td>\n",
       "      <td>400.0</td>\n",
       "      <td>6.0</td>\n",
       "      <td>5.0</td>\n",
       "      <td>...</td>\n",
       "      <td>15</td>\n",
       "      <td>Frente</td>\n",
       "      <td>None</td>\n",
       "      <td>Muy luminoso</td>\n",
       "      <td>Pernice Propiedades</td>\n",
       "      <td>0.0</td>\n",
       "      <td>2</td>\n",
       "      <td>5.422358e+11</td>\n",
       "      <td>/inmobiliarias/pernice-propiedades_30012549-in...</td>\n",
       "      <td>Departamento</td>\n",
       "    </tr>\n",
       "    <tr>\n",
       "      <th>2</th>\n",
       "      <td>3</td>\n",
       "      <td>1659000.0</td>\n",
       "      <td>$</td>\n",
       "      <td>420000.0</td>\n",
       "      <td>Rawson 38</td>\n",
       "      <td>None</td>\n",
       "      <td>Playa Chica, Mar del Plata</td>\n",
       "      <td>247.0</td>\n",
       "      <td>4.0</td>\n",
       "      <td>3.0</td>\n",
       "      <td>...</td>\n",
       "      <td>A estrenar</td>\n",
       "      <td>Frente</td>\n",
       "      <td>N</td>\n",
       "      <td>None</td>\n",
       "      <td>Matias Sosa Broker Inmobiliario</td>\n",
       "      <td>0.0</td>\n",
       "      <td>2</td>\n",
       "      <td>5.422368e+11</td>\n",
       "      <td>/inmobiliarias/matias-sosa-broker-inmobiliario...</td>\n",
       "      <td>Departamento</td>\n",
       "    </tr>\n",
       "    <tr>\n",
       "      <th>3</th>\n",
       "      <td>4</td>\n",
       "      <td>1566000.0</td>\n",
       "      <td>$</td>\n",
       "      <td>250.0</td>\n",
       "      <td>garay 100. Entre Aristobulo del vale y Diagona...</td>\n",
       "      <td>None</td>\n",
       "      <td>Mar del Plata, Buenos Aires Costa Atlántica</td>\n",
       "      <td>247.0</td>\n",
       "      <td>4.0</td>\n",
       "      <td>3.0</td>\n",
       "      <td>...</td>\n",
       "      <td>A estrenar</td>\n",
       "      <td>Frente</td>\n",
       "      <td>None</td>\n",
       "      <td>None</td>\n",
       "      <td>PROPIEDADES ROSI RODRIGUES ex CROSS</td>\n",
       "      <td>0.0</td>\n",
       "      <td>2</td>\n",
       "      <td>5.422364e+11</td>\n",
       "      <td>/inmobiliarias/propiedades-rosi-rodrigues-ex-c...</td>\n",
       "      <td>Departamento</td>\n",
       "    </tr>\n",
       "    <tr>\n",
       "      <th>4</th>\n",
       "      <td>5</td>\n",
       "      <td>1509000.0</td>\n",
       "      <td>None</td>\n",
       "      <td>NaN</td>\n",
       "      <td>Rawson 48</td>\n",
       "      <td>None</td>\n",
       "      <td>Playa Chica, Mar del Plata</td>\n",
       "      <td>247.0</td>\n",
       "      <td>4.0</td>\n",
       "      <td>3.0</td>\n",
       "      <td>...</td>\n",
       "      <td>A estrenar</td>\n",
       "      <td>Frente</td>\n",
       "      <td>None</td>\n",
       "      <td>None</td>\n",
       "      <td>Robles Casas &amp; Campos</td>\n",
       "      <td>0.0</td>\n",
       "      <td>2</td>\n",
       "      <td>5.492237e+12</td>\n",
       "      <td>/inmobiliarias/robles-casas-campos_17144846-in...</td>\n",
       "      <td>Departamento</td>\n",
       "    </tr>\n",
       "    <tr>\n",
       "      <th>...</th>\n",
       "      <td>...</td>\n",
       "      <td>...</td>\n",
       "      <td>...</td>\n",
       "      <td>...</td>\n",
       "      <td>...</td>\n",
       "      <td>...</td>\n",
       "      <td>...</td>\n",
       "      <td>...</td>\n",
       "      <td>...</td>\n",
       "      <td>...</td>\n",
       "      <td>...</td>\n",
       "      <td>...</td>\n",
       "      <td>...</td>\n",
       "      <td>...</td>\n",
       "      <td>...</td>\n",
       "      <td>...</td>\n",
       "      <td>...</td>\n",
       "      <td>...</td>\n",
       "      <td>...</td>\n",
       "      <td>...</td>\n",
       "      <td>...</td>\n",
       "    </tr>\n",
       "    <tr>\n",
       "      <th>16741</th>\n",
       "      <td>16742</td>\n",
       "      <td>74000.0</td>\n",
       "      <td>$</td>\n",
       "      <td>60000.0</td>\n",
       "      <td>Avenida 2 279</td>\n",
       "      <td>None</td>\n",
       "      <td>Zona Norte, Villa Gesell</td>\n",
       "      <td>42.0</td>\n",
       "      <td>2.0</td>\n",
       "      <td>1.0</td>\n",
       "      <td>...</td>\n",
       "      <td>None</td>\n",
       "      <td>None</td>\n",
       "      <td>None</td>\n",
       "      <td>None</td>\n",
       "      <td>None</td>\n",
       "      <td>NaN</td>\n",
       "      <td>None</td>\n",
       "      <td>NaN</td>\n",
       "      <td>None</td>\n",
       "      <td>None</td>\n",
       "    </tr>\n",
       "    <tr>\n",
       "      <th>16742</th>\n",
       "      <td>16743</td>\n",
       "      <td>35000.0</td>\n",
       "      <td>None</td>\n",
       "      <td>NaN</td>\n",
       "      <td>Nápoles &amp; Acevedo</td>\n",
       "      <td>None</td>\n",
       "      <td>Mar del Plata, Buenos Aires Costa Atlántica</td>\n",
       "      <td>27.0</td>\n",
       "      <td>1.0</td>\n",
       "      <td>1.0</td>\n",
       "      <td>...</td>\n",
       "      <td>None</td>\n",
       "      <td>None</td>\n",
       "      <td>None</td>\n",
       "      <td>None</td>\n",
       "      <td>None</td>\n",
       "      <td>NaN</td>\n",
       "      <td>None</td>\n",
       "      <td>NaN</td>\n",
       "      <td>None</td>\n",
       "      <td>None</td>\n",
       "    </tr>\n",
       "    <tr>\n",
       "      <th>16743</th>\n",
       "      <td>16744</td>\n",
       "      <td>50000.0</td>\n",
       "      <td>None</td>\n",
       "      <td>NaN</td>\n",
       "      <td>Piedrabuena 2000</td>\n",
       "      <td>None</td>\n",
       "      <td>Punta Mogotes, Mar del Plata</td>\n",
       "      <td>34.0</td>\n",
       "      <td>2.0</td>\n",
       "      <td>1.0</td>\n",
       "      <td>...</td>\n",
       "      <td>None</td>\n",
       "      <td>None</td>\n",
       "      <td>None</td>\n",
       "      <td>None</td>\n",
       "      <td>None</td>\n",
       "      <td>NaN</td>\n",
       "      <td>None</td>\n",
       "      <td>NaN</td>\n",
       "      <td>None</td>\n",
       "      <td>None</td>\n",
       "    </tr>\n",
       "    <tr>\n",
       "      <th>16744</th>\n",
       "      <td>16745</td>\n",
       "      <td>51000.0</td>\n",
       "      <td>$</td>\n",
       "      <td>100000.0</td>\n",
       "      <td>San Martín 2544</td>\n",
       "      <td>None</td>\n",
       "      <td>Mar del Plata, Buenos Aires Costa Atlántica</td>\n",
       "      <td>35.0</td>\n",
       "      <td>2.0</td>\n",
       "      <td>1.0</td>\n",
       "      <td>...</td>\n",
       "      <td>None</td>\n",
       "      <td>None</td>\n",
       "      <td>None</td>\n",
       "      <td>None</td>\n",
       "      <td>None</td>\n",
       "      <td>NaN</td>\n",
       "      <td>None</td>\n",
       "      <td>NaN</td>\n",
       "      <td>None</td>\n",
       "      <td>None</td>\n",
       "    </tr>\n",
       "    <tr>\n",
       "      <th>16745</th>\n",
       "      <td>16746</td>\n",
       "      <td>45000.0</td>\n",
       "      <td>$</td>\n",
       "      <td>60000.0</td>\n",
       "      <td>Entre Ríos 1623</td>\n",
       "      <td>None</td>\n",
       "      <td>Centro, Mar del Plata</td>\n",
       "      <td>28.0</td>\n",
       "      <td>1.0</td>\n",
       "      <td>NaN</td>\n",
       "      <td>...</td>\n",
       "      <td>None</td>\n",
       "      <td>None</td>\n",
       "      <td>None</td>\n",
       "      <td>None</td>\n",
       "      <td>None</td>\n",
       "      <td>NaN</td>\n",
       "      <td>None</td>\n",
       "      <td>NaN</td>\n",
       "      <td>None</td>\n",
       "      <td>None</td>\n",
       "    </tr>\n",
       "  </tbody>\n",
       "</table>\n",
       "<p>16746 rows × 33 columns</p>\n",
       "</div>"
      ],
      "text/plain": [
       "          id     precio moneda_expensas  expensas  \\\n",
       "0          1  4000000.0            None       NaN   \n",
       "1          2  1900000.0            None       NaN   \n",
       "2          3  1659000.0               $  420000.0   \n",
       "3          4  1566000.0               $     250.0   \n",
       "4          5  1509000.0            None       NaN   \n",
       "...      ...        ...             ...       ...   \n",
       "16741  16742    74000.0               $   60000.0   \n",
       "16742  16743    35000.0            None       NaN   \n",
       "16743  16744    50000.0            None       NaN   \n",
       "16744  16745    51000.0               $  100000.0   \n",
       "16745  16746    45000.0               $   60000.0   \n",
       "\n",
       "                                                  nombre fotos  \\\n",
       "0       Parador Villa Faraz - Gesell - Mar de las Pampas  None   \n",
       "1                                             Colon  900  None   \n",
       "2                                              Rawson 38  None   \n",
       "3      garay 100. Entre Aristobulo del vale y Diagona...  None   \n",
       "4                                              Rawson 48  None   \n",
       "...                                                  ...   ...   \n",
       "16741                                      Avenida 2 279  None   \n",
       "16742                                  Nápoles & Acevedo  None   \n",
       "16743                                   Piedrabuena 2000  None   \n",
       "16744                                    San Martín 2544  None   \n",
       "16745                                    Entre Ríos 1623  None   \n",
       "\n",
       "                                      localizacion  metros_cuadrados  \\\n",
       "0       Villa Gesell, Buenos Aires Costa Atlántica           45440.0   \n",
       "1                      Stella Maris, Mar del Plata             400.0   \n",
       "2                       Playa Chica, Mar del Plata             247.0   \n",
       "3      Mar del Plata, Buenos Aires Costa Atlántica             247.0   \n",
       "4                       Playa Chica, Mar del Plata             247.0   \n",
       "...                                            ...               ...   \n",
       "16741                     Zona Norte, Villa Gesell              42.0   \n",
       "16742  Mar del Plata, Buenos Aires Costa Atlántica              27.0   \n",
       "16743                 Punta Mogotes, Mar del Plata              34.0   \n",
       "16744  Mar del Plata, Buenos Aires Costa Atlántica              35.0   \n",
       "16745                        Centro, Mar del Plata              28.0   \n",
       "\n",
       "       ambientes  dormitorios  ...  antiguedad  disposicion orientacion  \\\n",
       "0            NaN          NaN  ...        None         None        None   \n",
       "1            6.0          5.0  ...          15       Frente        None   \n",
       "2            4.0          3.0  ...  A estrenar       Frente           N   \n",
       "3            4.0          3.0  ...  A estrenar       Frente        None   \n",
       "4            4.0          3.0  ...  A estrenar       Frente        None   \n",
       "...          ...          ...  ...         ...          ...         ...   \n",
       "16741        2.0          1.0  ...        None         None        None   \n",
       "16742        1.0          1.0  ...        None         None        None   \n",
       "16743        2.0          1.0  ...        None         None        None   \n",
       "16744        2.0          1.0  ...        None         None        None   \n",
       "16745        1.0          NaN  ...        None         None        None   \n",
       "\n",
       "        luminosidad                           anunciante  \\\n",
       "0              None                                 None   \n",
       "1      Muy luminoso                  Pernice Propiedades   \n",
       "2              None      Matias Sosa Broker Inmobiliario   \n",
       "3              None  PROPIEDADES ROSI RODRIGUES ex CROSS   \n",
       "4              None                Robles Casas & Campos   \n",
       "...             ...                                  ...   \n",
       "16741          None                                 None   \n",
       "16742          None                                 None   \n",
       "16743          None                                 None   \n",
       "16744          None                                 None   \n",
       "16745          None                                 None   \n",
       "\n",
       "      anunciante_premium_si_o_no  anunciante_tipo_de_id  wpp_anunciante  \\\n",
       "0                            NaN                   None             NaN   \n",
       "1                            0.0                      2    5.422358e+11   \n",
       "2                            0.0                      2    5.422368e+11   \n",
       "3                            0.0                      2    5.422364e+11   \n",
       "4                            0.0                      2    5.492237e+12   \n",
       "...                          ...                    ...             ...   \n",
       "16741                        NaN                   None             NaN   \n",
       "16742                        NaN                   None             NaN   \n",
       "16743                        NaN                   None             NaN   \n",
       "16744                        NaN                   None             NaN   \n",
       "16745                        NaN                   None             NaN   \n",
       "\n",
       "                                          url_anunciante property_type  \n",
       "0                                                   None          None  \n",
       "1      /inmobiliarias/pernice-propiedades_30012549-in...  Departamento  \n",
       "2      /inmobiliarias/matias-sosa-broker-inmobiliario...  Departamento  \n",
       "3      /inmobiliarias/propiedades-rosi-rodrigues-ex-c...  Departamento  \n",
       "4      /inmobiliarias/robles-casas-campos_17144846-in...  Departamento  \n",
       "...                                                  ...           ...  \n",
       "16741                                               None          None  \n",
       "16742                                               None          None  \n",
       "16743                                               None          None  \n",
       "16744                                               None          None  \n",
       "16745                                               None          None  \n",
       "\n",
       "[16746 rows x 33 columns]"
      ]
     },
     "execution_count": 2,
     "metadata": {},
     "output_type": "execute_result"
    }
   ],
   "source": [
    "# Obtengo el nombre de las diferentes columnas en la base de datos.\n",
    "cur.execute('DESCRIBE Propiedades6;')\n",
    "columnas = [col[0] for col in cur.fetchall()]  # solo el nombre, no todo el registro\n",
    "\n",
    "# Estos son los datos\n",
    "cur.execute('SELECT * FROM Propiedades6;')\n",
    "resultados_consulta = cur.fetchall()\n",
    "\n",
    "DatosZonaProp = pd.DataFrame(resultados_consulta, columns=columnas) # Acá armo el data frame.\n",
    "DatosZonaProp"
   ]
  },
  {
   "cell_type": "code",
   "execution_count": 3,
   "id": "eb95aab3-a1de-4bb1-b236-59ffc03350f6",
   "metadata": {},
   "outputs": [
    {
     "data": {
      "text/html": [
       "<div>\n",
       "<style scoped>\n",
       "    .dataframe tbody tr th:only-of-type {\n",
       "        vertical-align: middle;\n",
       "    }\n",
       "\n",
       "    .dataframe tbody tr th {\n",
       "        vertical-align: top;\n",
       "    }\n",
       "\n",
       "    .dataframe thead th {\n",
       "        text-align: right;\n",
       "    }\n",
       "</style>\n",
       "<table border=\"1\" class=\"dataframe\">\n",
       "  <thead>\n",
       "    <tr style=\"text-align: right;\">\n",
       "      <th></th>\n",
       "      <th>precio</th>\n",
       "      <th>moneda_expensas</th>\n",
       "      <th>expensas</th>\n",
       "      <th>nombre</th>\n",
       "      <th>fotos</th>\n",
       "      <th>localizacion</th>\n",
       "      <th>metros_cuadrados</th>\n",
       "      <th>ambientes</th>\n",
       "      <th>dormitorios</th>\n",
       "      <th>baños</th>\n",
       "      <th>...</th>\n",
       "      <th>antiguedad</th>\n",
       "      <th>disposicion</th>\n",
       "      <th>orientacion</th>\n",
       "      <th>luminosidad</th>\n",
       "      <th>anunciante</th>\n",
       "      <th>anunciante_premium_si_o_no</th>\n",
       "      <th>anunciante_tipo_de_id</th>\n",
       "      <th>wpp_anunciante</th>\n",
       "      <th>url_anunciante</th>\n",
       "      <th>property_type</th>\n",
       "    </tr>\n",
       "    <tr>\n",
       "      <th>id</th>\n",
       "      <th></th>\n",
       "      <th></th>\n",
       "      <th></th>\n",
       "      <th></th>\n",
       "      <th></th>\n",
       "      <th></th>\n",
       "      <th></th>\n",
       "      <th></th>\n",
       "      <th></th>\n",
       "      <th></th>\n",
       "      <th></th>\n",
       "      <th></th>\n",
       "      <th></th>\n",
       "      <th></th>\n",
       "      <th></th>\n",
       "      <th></th>\n",
       "      <th></th>\n",
       "      <th></th>\n",
       "      <th></th>\n",
       "      <th></th>\n",
       "      <th></th>\n",
       "    </tr>\n",
       "  </thead>\n",
       "  <tbody>\n",
       "    <tr>\n",
       "      <th>1</th>\n",
       "      <td>4000000.0</td>\n",
       "      <td>None</td>\n",
       "      <td>NaN</td>\n",
       "      <td>Parador Villa Faraz - Gesell - Mar de las Pampas</td>\n",
       "      <td>None</td>\n",
       "      <td>Villa Gesell, Buenos Aires Costa Atlántica</td>\n",
       "      <td>45440.0</td>\n",
       "      <td>NaN</td>\n",
       "      <td>NaN</td>\n",
       "      <td>NaN</td>\n",
       "      <td>...</td>\n",
       "      <td>None</td>\n",
       "      <td>None</td>\n",
       "      <td>None</td>\n",
       "      <td>None</td>\n",
       "      <td>None</td>\n",
       "      <td>NaN</td>\n",
       "      <td>None</td>\n",
       "      <td>NaN</td>\n",
       "      <td>None</td>\n",
       "      <td>None</td>\n",
       "    </tr>\n",
       "    <tr>\n",
       "      <th>2</th>\n",
       "      <td>1900000.0</td>\n",
       "      <td>None</td>\n",
       "      <td>NaN</td>\n",
       "      <td>Colon  900</td>\n",
       "      <td>None</td>\n",
       "      <td>Stella Maris, Mar del Plata</td>\n",
       "      <td>400.0</td>\n",
       "      <td>6.0</td>\n",
       "      <td>5.0</td>\n",
       "      <td>4.0</td>\n",
       "      <td>...</td>\n",
       "      <td>15</td>\n",
       "      <td>Frente</td>\n",
       "      <td>None</td>\n",
       "      <td>Muy luminoso</td>\n",
       "      <td>Pernice Propiedades</td>\n",
       "      <td>0.0</td>\n",
       "      <td>2</td>\n",
       "      <td>5.422358e+11</td>\n",
       "      <td>/inmobiliarias/pernice-propiedades_30012549-in...</td>\n",
       "      <td>Departamento</td>\n",
       "    </tr>\n",
       "    <tr>\n",
       "      <th>3</th>\n",
       "      <td>1659000.0</td>\n",
       "      <td>$</td>\n",
       "      <td>420000.0</td>\n",
       "      <td>Rawson 38</td>\n",
       "      <td>None</td>\n",
       "      <td>Playa Chica, Mar del Plata</td>\n",
       "      <td>247.0</td>\n",
       "      <td>4.0</td>\n",
       "      <td>3.0</td>\n",
       "      <td>4.0</td>\n",
       "      <td>...</td>\n",
       "      <td>A estrenar</td>\n",
       "      <td>Frente</td>\n",
       "      <td>N</td>\n",
       "      <td>None</td>\n",
       "      <td>Matias Sosa Broker Inmobiliario</td>\n",
       "      <td>0.0</td>\n",
       "      <td>2</td>\n",
       "      <td>5.422368e+11</td>\n",
       "      <td>/inmobiliarias/matias-sosa-broker-inmobiliario...</td>\n",
       "      <td>Departamento</td>\n",
       "    </tr>\n",
       "    <tr>\n",
       "      <th>4</th>\n",
       "      <td>1566000.0</td>\n",
       "      <td>$</td>\n",
       "      <td>250.0</td>\n",
       "      <td>garay 100. Entre Aristobulo del vale y Diagona...</td>\n",
       "      <td>None</td>\n",
       "      <td>Mar del Plata, Buenos Aires Costa Atlántica</td>\n",
       "      <td>247.0</td>\n",
       "      <td>4.0</td>\n",
       "      <td>3.0</td>\n",
       "      <td>4.0</td>\n",
       "      <td>...</td>\n",
       "      <td>A estrenar</td>\n",
       "      <td>Frente</td>\n",
       "      <td>None</td>\n",
       "      <td>None</td>\n",
       "      <td>PROPIEDADES ROSI RODRIGUES ex CROSS</td>\n",
       "      <td>0.0</td>\n",
       "      <td>2</td>\n",
       "      <td>5.422364e+11</td>\n",
       "      <td>/inmobiliarias/propiedades-rosi-rodrigues-ex-c...</td>\n",
       "      <td>Departamento</td>\n",
       "    </tr>\n",
       "    <tr>\n",
       "      <th>5</th>\n",
       "      <td>1509000.0</td>\n",
       "      <td>None</td>\n",
       "      <td>NaN</td>\n",
       "      <td>Rawson 48</td>\n",
       "      <td>None</td>\n",
       "      <td>Playa Chica, Mar del Plata</td>\n",
       "      <td>247.0</td>\n",
       "      <td>4.0</td>\n",
       "      <td>3.0</td>\n",
       "      <td>3.0</td>\n",
       "      <td>...</td>\n",
       "      <td>A estrenar</td>\n",
       "      <td>Frente</td>\n",
       "      <td>None</td>\n",
       "      <td>None</td>\n",
       "      <td>Robles Casas &amp; Campos</td>\n",
       "      <td>0.0</td>\n",
       "      <td>2</td>\n",
       "      <td>5.492237e+12</td>\n",
       "      <td>/inmobiliarias/robles-casas-campos_17144846-in...</td>\n",
       "      <td>Departamento</td>\n",
       "    </tr>\n",
       "    <tr>\n",
       "      <th>...</th>\n",
       "      <td>...</td>\n",
       "      <td>...</td>\n",
       "      <td>...</td>\n",
       "      <td>...</td>\n",
       "      <td>...</td>\n",
       "      <td>...</td>\n",
       "      <td>...</td>\n",
       "      <td>...</td>\n",
       "      <td>...</td>\n",
       "      <td>...</td>\n",
       "      <td>...</td>\n",
       "      <td>...</td>\n",
       "      <td>...</td>\n",
       "      <td>...</td>\n",
       "      <td>...</td>\n",
       "      <td>...</td>\n",
       "      <td>...</td>\n",
       "      <td>...</td>\n",
       "      <td>...</td>\n",
       "      <td>...</td>\n",
       "      <td>...</td>\n",
       "    </tr>\n",
       "    <tr>\n",
       "      <th>16742</th>\n",
       "      <td>74000.0</td>\n",
       "      <td>$</td>\n",
       "      <td>60000.0</td>\n",
       "      <td>Avenida 2 279</td>\n",
       "      <td>None</td>\n",
       "      <td>Zona Norte, Villa Gesell</td>\n",
       "      <td>42.0</td>\n",
       "      <td>2.0</td>\n",
       "      <td>1.0</td>\n",
       "      <td>NaN</td>\n",
       "      <td>...</td>\n",
       "      <td>None</td>\n",
       "      <td>None</td>\n",
       "      <td>None</td>\n",
       "      <td>None</td>\n",
       "      <td>None</td>\n",
       "      <td>NaN</td>\n",
       "      <td>None</td>\n",
       "      <td>NaN</td>\n",
       "      <td>None</td>\n",
       "      <td>None</td>\n",
       "    </tr>\n",
       "    <tr>\n",
       "      <th>16743</th>\n",
       "      <td>35000.0</td>\n",
       "      <td>None</td>\n",
       "      <td>NaN</td>\n",
       "      <td>Nápoles &amp; Acevedo</td>\n",
       "      <td>None</td>\n",
       "      <td>Mar del Plata, Buenos Aires Costa Atlántica</td>\n",
       "      <td>27.0</td>\n",
       "      <td>1.0</td>\n",
       "      <td>1.0</td>\n",
       "      <td>NaN</td>\n",
       "      <td>...</td>\n",
       "      <td>None</td>\n",
       "      <td>None</td>\n",
       "      <td>None</td>\n",
       "      <td>None</td>\n",
       "      <td>None</td>\n",
       "      <td>NaN</td>\n",
       "      <td>None</td>\n",
       "      <td>NaN</td>\n",
       "      <td>None</td>\n",
       "      <td>None</td>\n",
       "    </tr>\n",
       "    <tr>\n",
       "      <th>16744</th>\n",
       "      <td>50000.0</td>\n",
       "      <td>None</td>\n",
       "      <td>NaN</td>\n",
       "      <td>Piedrabuena 2000</td>\n",
       "      <td>None</td>\n",
       "      <td>Punta Mogotes, Mar del Plata</td>\n",
       "      <td>34.0</td>\n",
       "      <td>2.0</td>\n",
       "      <td>1.0</td>\n",
       "      <td>NaN</td>\n",
       "      <td>...</td>\n",
       "      <td>None</td>\n",
       "      <td>None</td>\n",
       "      <td>None</td>\n",
       "      <td>None</td>\n",
       "      <td>None</td>\n",
       "      <td>NaN</td>\n",
       "      <td>None</td>\n",
       "      <td>NaN</td>\n",
       "      <td>None</td>\n",
       "      <td>None</td>\n",
       "    </tr>\n",
       "    <tr>\n",
       "      <th>16745</th>\n",
       "      <td>51000.0</td>\n",
       "      <td>$</td>\n",
       "      <td>100000.0</td>\n",
       "      <td>San Martín 2544</td>\n",
       "      <td>None</td>\n",
       "      <td>Mar del Plata, Buenos Aires Costa Atlántica</td>\n",
       "      <td>35.0</td>\n",
       "      <td>2.0</td>\n",
       "      <td>1.0</td>\n",
       "      <td>NaN</td>\n",
       "      <td>...</td>\n",
       "      <td>None</td>\n",
       "      <td>None</td>\n",
       "      <td>None</td>\n",
       "      <td>None</td>\n",
       "      <td>None</td>\n",
       "      <td>NaN</td>\n",
       "      <td>None</td>\n",
       "      <td>NaN</td>\n",
       "      <td>None</td>\n",
       "      <td>None</td>\n",
       "    </tr>\n",
       "    <tr>\n",
       "      <th>16746</th>\n",
       "      <td>45000.0</td>\n",
       "      <td>$</td>\n",
       "      <td>60000.0</td>\n",
       "      <td>Entre Ríos 1623</td>\n",
       "      <td>None</td>\n",
       "      <td>Centro, Mar del Plata</td>\n",
       "      <td>28.0</td>\n",
       "      <td>1.0</td>\n",
       "      <td>NaN</td>\n",
       "      <td>NaN</td>\n",
       "      <td>...</td>\n",
       "      <td>None</td>\n",
       "      <td>None</td>\n",
       "      <td>None</td>\n",
       "      <td>None</td>\n",
       "      <td>None</td>\n",
       "      <td>NaN</td>\n",
       "      <td>None</td>\n",
       "      <td>NaN</td>\n",
       "      <td>None</td>\n",
       "      <td>None</td>\n",
       "    </tr>\n",
       "  </tbody>\n",
       "</table>\n",
       "<p>16746 rows × 32 columns</p>\n",
       "</div>"
      ],
      "text/plain": [
       "          precio moneda_expensas  expensas  \\\n",
       "id                                           \n",
       "1      4000000.0            None       NaN   \n",
       "2      1900000.0            None       NaN   \n",
       "3      1659000.0               $  420000.0   \n",
       "4      1566000.0               $     250.0   \n",
       "5      1509000.0            None       NaN   \n",
       "...          ...             ...       ...   \n",
       "16742    74000.0               $   60000.0   \n",
       "16743    35000.0            None       NaN   \n",
       "16744    50000.0            None       NaN   \n",
       "16745    51000.0               $  100000.0   \n",
       "16746    45000.0               $   60000.0   \n",
       "\n",
       "                                                  nombre fotos  \\\n",
       "id                                                               \n",
       "1       Parador Villa Faraz - Gesell - Mar de las Pampas  None   \n",
       "2                                             Colon  900  None   \n",
       "3                                              Rawson 38  None   \n",
       "4      garay 100. Entre Aristobulo del vale y Diagona...  None   \n",
       "5                                              Rawson 48  None   \n",
       "...                                                  ...   ...   \n",
       "16742                                      Avenida 2 279  None   \n",
       "16743                                  Nápoles & Acevedo  None   \n",
       "16744                                   Piedrabuena 2000  None   \n",
       "16745                                    San Martín 2544  None   \n",
       "16746                                    Entre Ríos 1623  None   \n",
       "\n",
       "                                      localizacion  metros_cuadrados  \\\n",
       "id                                                                     \n",
       "1       Villa Gesell, Buenos Aires Costa Atlántica           45440.0   \n",
       "2                      Stella Maris, Mar del Plata             400.0   \n",
       "3                       Playa Chica, Mar del Plata             247.0   \n",
       "4      Mar del Plata, Buenos Aires Costa Atlántica             247.0   \n",
       "5                       Playa Chica, Mar del Plata             247.0   \n",
       "...                                            ...               ...   \n",
       "16742                     Zona Norte, Villa Gesell              42.0   \n",
       "16743  Mar del Plata, Buenos Aires Costa Atlántica              27.0   \n",
       "16744                 Punta Mogotes, Mar del Plata              34.0   \n",
       "16745  Mar del Plata, Buenos Aires Costa Atlántica              35.0   \n",
       "16746                        Centro, Mar del Plata              28.0   \n",
       "\n",
       "       ambientes  dormitorios  baños  ...  antiguedad disposicion  \\\n",
       "id                                    ...                           \n",
       "1            NaN          NaN    NaN  ...        None        None   \n",
       "2            6.0          5.0    4.0  ...          15      Frente   \n",
       "3            4.0          3.0    4.0  ...  A estrenar      Frente   \n",
       "4            4.0          3.0    4.0  ...  A estrenar      Frente   \n",
       "5            4.0          3.0    3.0  ...  A estrenar      Frente   \n",
       "...          ...          ...    ...  ...         ...         ...   \n",
       "16742        2.0          1.0    NaN  ...        None        None   \n",
       "16743        1.0          1.0    NaN  ...        None        None   \n",
       "16744        2.0          1.0    NaN  ...        None        None   \n",
       "16745        2.0          1.0    NaN  ...        None        None   \n",
       "16746        1.0          NaN    NaN  ...        None        None   \n",
       "\n",
       "       orientacion   luminosidad                           anunciante  \\\n",
       "id                                                                      \n",
       "1             None          None                                 None   \n",
       "2             None  Muy luminoso                  Pernice Propiedades   \n",
       "3                N          None      Matias Sosa Broker Inmobiliario   \n",
       "4             None          None  PROPIEDADES ROSI RODRIGUES ex CROSS   \n",
       "5             None          None                Robles Casas & Campos   \n",
       "...            ...           ...                                  ...   \n",
       "16742         None          None                                 None   \n",
       "16743         None          None                                 None   \n",
       "16744         None          None                                 None   \n",
       "16745         None          None                                 None   \n",
       "16746         None          None                                 None   \n",
       "\n",
       "       anunciante_premium_si_o_no  anunciante_tipo_de_id wpp_anunciante  \\\n",
       "id                                                                        \n",
       "1                             NaN                   None            NaN   \n",
       "2                             0.0                      2   5.422358e+11   \n",
       "3                             0.0                      2   5.422368e+11   \n",
       "4                             0.0                      2   5.422364e+11   \n",
       "5                             0.0                      2   5.492237e+12   \n",
       "...                           ...                    ...            ...   \n",
       "16742                         NaN                   None            NaN   \n",
       "16743                         NaN                   None            NaN   \n",
       "16744                         NaN                   None            NaN   \n",
       "16745                         NaN                   None            NaN   \n",
       "16746                         NaN                   None            NaN   \n",
       "\n",
       "                                          url_anunciante  property_type  \n",
       "id                                                                       \n",
       "1                                                   None           None  \n",
       "2      /inmobiliarias/pernice-propiedades_30012549-in...   Departamento  \n",
       "3      /inmobiliarias/matias-sosa-broker-inmobiliario...   Departamento  \n",
       "4      /inmobiliarias/propiedades-rosi-rodrigues-ex-c...   Departamento  \n",
       "5      /inmobiliarias/robles-casas-campos_17144846-in...   Departamento  \n",
       "...                                                  ...            ...  \n",
       "16742                                               None           None  \n",
       "16743                                               None           None  \n",
       "16744                                               None           None  \n",
       "16745                                               None           None  \n",
       "16746                                               None           None  \n",
       "\n",
       "[16746 rows x 32 columns]"
      ]
     },
     "execution_count": 3,
     "metadata": {},
     "output_type": "execute_result"
    }
   ],
   "source": [
    "DatosZonaProp = DatosZonaProp.set_index('id', drop=True)\n",
    "DatosZonaProp"
   ]
  },
  {
   "cell_type": "code",
   "execution_count": 6,
   "id": "27eb1710-3036-4744-8b57-7a52320fc813",
   "metadata": {},
   "outputs": [
    {
     "data": {
      "text/plain": [
       "Index(['precio', 'moneda_expensas', 'expensas', 'nombre', 'fotos',\n",
       "       'localizacion', 'metros_cuadrados', 'ambientes', 'dormitorios', 'baños',\n",
       "       'cocheras', 'link', 'id_zonaprop', 'ultima_actualizacion',\n",
       "       'descripcion', 'latitud', 'longitud', 'fecha_publicacion',\n",
       "       'antiguedad_publicacion', 'visitas_u30d', 'superficie_total',\n",
       "       'superficie_cubierta', 'antiguedad', 'disposicion', 'orientacion',\n",
       "       'luminosidad', 'anunciante', 'anunciante_premium_si_o_no',\n",
       "       'anunciante_tipo_de_id', 'wpp_anunciante', 'url_anunciante',\n",
       "       'property_type'],\n",
       "      dtype='object')"
      ]
     },
     "execution_count": 6,
     "metadata": {},
     "output_type": "execute_result"
    }
   ],
   "source": [
    "DatosZonaProp.columns"
   ]
  },
  {
   "cell_type": "markdown",
   "id": "70bd3d1e-0afa-431f-b3af-7c8c012affac",
   "metadata": {},
   "source": [
    "## Valores nulos:\n",
    "* Los valores nulos en este caso vamos a modificarlos de la siguiente manera:\n",
    "    - Las expensas no se tocan, ya que serán estimadas por separado en base a características del departamento\n",
    "    - Los dormitorios, dependen de una lógica condiciónal:\n",
    "        * Sí tienen 1 ambiente tienen 0 dormitorios.\n",
    "        * Sí tienen 2 ambientes tienen 1 dormitorios.\n",
    "        * Sí tienen 3 ambientes tienen 2 dormitorios.\n",
    "        * Y en el resto de los casos (se los remueve del dataset)\n",
    "    - Los baños se asumira por lo menos uno, así que todos los nulls se rellenaran con 1.\n",
    "    - Las cocheras, se asumen que la publicación en las que no están agregadas no cuentan con una, así que se todos los nulls se rellenarán con 0.\n",
    "    - El resto de los nulls existentens no complican el desarrollo del análisis.\n",
    "#### A continuación vemos los valores nulos:"
   ]
  },
  {
   "cell_type": "code",
   "execution_count": 10,
   "id": "e6f5b971-b8d0-4a2c-84a4-80cfbf49bd78",
   "metadata": {},
   "outputs": [
    {
     "data": {
      "text/plain": [
       "precio                            0\n",
       "moneda_expensas               10827\n",
       "expensas                      10827\n",
       "nombre                           99\n",
       "fotos                         16746\n",
       "localizacion                      0\n",
       "metros_cuadrados                299\n",
       "ambientes                       984\n",
       "dormitorios                    1887\n",
       "baños                         11390\n",
       "cocheras                      10249\n",
       "link                              1\n",
       "id_zonaprop                       0\n",
       "ultima_actualizacion              0\n",
       "descripcion                       1\n",
       "latitud                        7287\n",
       "longitud                       7287\n",
       "fecha_publicacion              7287\n",
       "antiguedad_publicacion         7386\n",
       "visitas_u30d                  12884\n",
       "superficie_total               7561\n",
       "superficie_cubierta            7898\n",
       "antiguedad                     8457\n",
       "disposicion                   11247\n",
       "orientacion                   12882\n",
       "luminosidad                   12680\n",
       "anunciante                     7287\n",
       "anunciante_premium_si_o_no     7287\n",
       "anunciante_tipo_de_id          7287\n",
       "wpp_anunciante                 8640\n",
       "url_anunciante                 7287\n",
       "property_type                  7287\n",
       "dtype: int64"
      ]
     },
     "execution_count": 10,
     "metadata": {},
     "output_type": "execute_result"
    }
   ],
   "source": [
    "DatosZonaProp.isna().sum()"
   ]
  },
  {
   "cell_type": "code",
   "execution_count": 11,
   "id": "33b1f8a5-321e-4d83-8fab-8e289c1c800b",
   "metadata": {
    "scrolled": true
   },
   "outputs": [
    {
     "data": {
      "text/plain": [
       "ambientes\n",
       "1.0     1111\n",
       "2.0      238\n",
       "3.0      213\n",
       "4.0       68\n",
       "5.0        8\n",
       "8.0        1\n",
       "11.0       1\n",
       "14.0       1\n",
       "18.0       1\n",
       "dtype: int64"
      ]
     },
     "execution_count": 11,
     "metadata": {},
     "output_type": "execute_result"
    }
   ],
   "source": [
    "# Esta linea nos permite ver cuantos valores nulos hay por cada cantidad de ambientes\n",
    "DatosZonaProp[DatosZonaProp['dormitorios'].isna()].groupby('ambientes').size()"
   ]
  },
  {
   "cell_type": "code",
   "execution_count": 12,
   "id": "e698f833-5627-41f6-91ed-9e35dd5fbf50",
   "metadata": {},
   "outputs": [
    {
     "data": {
      "text/plain": [
       "precio                            0\n",
       "moneda_expensas               10603\n",
       "expensas                      10603\n",
       "nombre                           28\n",
       "fotos                         16489\n",
       "localizacion                      0\n",
       "metros_cuadrados                226\n",
       "ambientes                       739\n",
       "dormitorios                       0\n",
       "baños                             0\n",
       "cocheras                          0\n",
       "link                              1\n",
       "id_zonaprop                       0\n",
       "ultima_actualizacion              0\n",
       "descripcion                       1\n",
       "latitud                        7181\n",
       "longitud                       7181\n",
       "fecha_publicacion              7181\n",
       "antiguedad_publicacion         7209\n",
       "visitas_u30d                  12718\n",
       "superficie_total               7384\n",
       "superficie_cubierta            7709\n",
       "antiguedad                     8253\n",
       "disposicion                   11003\n",
       "orientacion                   12634\n",
       "luminosidad                   12435\n",
       "anunciante                     7181\n",
       "anunciante_premium_si_o_no     7181\n",
       "anunciante_tipo_de_id          7181\n",
       "wpp_anunciante                 8521\n",
       "url_anunciante                 7181\n",
       "property_type                  7181\n",
       "dtype: int64"
      ]
     },
     "execution_count": 12,
     "metadata": {},
     "output_type": "execute_result"
    }
   ],
   "source": [
    "DatosZonaProp['dormitorios'] = DatosZonaProp['dormitorios'].fillna(DatosZonaProp['ambientes'].apply(lambda x: 0 if x == 1 else 1 if x == 2 else 2 if x == 3 else 3 if x == 4 else np.nan))\n",
    "DatosZonaProp.dropna(subset=['dormitorios'], inplace=True)\n",
    "DatosZonaProp['baños'] = DatosZonaProp['baños'].fillna(1)\n",
    "DatosZonaProp['cocheras'] = DatosZonaProp['cocheras'].fillna(0)\n",
    "DatosZonaProp.isna().sum()"
   ]
  },
  {
   "cell_type": "code",
   "execution_count": 13,
   "id": "b1abcf09-9c41-48b7-9f64-be9b74a01e04",
   "metadata": {
    "scrolled": true
   },
   "outputs": [
    {
     "ename": "KeyError",
     "evalue": "\"['id'] not found in axis\"",
     "output_type": "error",
     "traceback": [
      "\u001b[0;31m---------------------------------------------------------------------------\u001b[0m",
      "\u001b[0;31mKeyError\u001b[0m                                  Traceback (most recent call last)",
      "Cell \u001b[0;32mIn[13], line 2\u001b[0m\n\u001b[1;32m      1\u001b[0m \u001b[38;5;66;03m# Elimino el campo de 'id' y elimino los duplicados de la variable 'descripcion' que justamente contiene la descripción de cada publicación.\u001b[39;00m\n\u001b[0;32m----> 2\u001b[0m DatosZonaProp \u001b[38;5;241m=\u001b[39m \u001b[43mDatosZonaProp\u001b[49m\u001b[38;5;241;43m.\u001b[39;49m\u001b[43mdrop\u001b[49m\u001b[43m(\u001b[49m\u001b[38;5;124;43m'\u001b[39;49m\u001b[38;5;124;43mid\u001b[39;49m\u001b[38;5;124;43m'\u001b[39;49m\u001b[43m,\u001b[49m\u001b[43m \u001b[49m\u001b[43maxis\u001b[49m\u001b[38;5;241;43m=\u001b[39;49m\u001b[38;5;241;43m1\u001b[39;49m\u001b[43m)\u001b[49m\u001b[38;5;241m.\u001b[39mdrop_duplicates(subset\u001b[38;5;241m=\u001b[39m[\u001b[38;5;124m'\u001b[39m\u001b[38;5;124mdescripcion\u001b[39m\u001b[38;5;124m'\u001b[39m])\n\u001b[1;32m      3\u001b[0m DatosZonaProp\n",
      "File \u001b[0;32m~/nuevo_env/lib/python3.13/site-packages/pandas/core/frame.py:5581\u001b[0m, in \u001b[0;36mDataFrame.drop\u001b[0;34m(self, labels, axis, index, columns, level, inplace, errors)\u001b[0m\n\u001b[1;32m   5433\u001b[0m \u001b[38;5;28;01mdef\u001b[39;00m \u001b[38;5;21mdrop\u001b[39m(\n\u001b[1;32m   5434\u001b[0m     \u001b[38;5;28mself\u001b[39m,\n\u001b[1;32m   5435\u001b[0m     labels: IndexLabel \u001b[38;5;241m|\u001b[39m \u001b[38;5;28;01mNone\u001b[39;00m \u001b[38;5;241m=\u001b[39m \u001b[38;5;28;01mNone\u001b[39;00m,\n\u001b[0;32m   (...)\u001b[0m\n\u001b[1;32m   5442\u001b[0m     errors: IgnoreRaise \u001b[38;5;241m=\u001b[39m \u001b[38;5;124m\"\u001b[39m\u001b[38;5;124mraise\u001b[39m\u001b[38;5;124m\"\u001b[39m,\n\u001b[1;32m   5443\u001b[0m ) \u001b[38;5;241m-\u001b[39m\u001b[38;5;241m>\u001b[39m DataFrame \u001b[38;5;241m|\u001b[39m \u001b[38;5;28;01mNone\u001b[39;00m:\n\u001b[1;32m   5444\u001b[0m \u001b[38;5;250m    \u001b[39m\u001b[38;5;124;03m\"\"\"\u001b[39;00m\n\u001b[1;32m   5445\u001b[0m \u001b[38;5;124;03m    Drop specified labels from rows or columns.\u001b[39;00m\n\u001b[1;32m   5446\u001b[0m \n\u001b[0;32m   (...)\u001b[0m\n\u001b[1;32m   5579\u001b[0m \u001b[38;5;124;03m            weight  1.0     0.8\u001b[39;00m\n\u001b[1;32m   5580\u001b[0m \u001b[38;5;124;03m    \"\"\"\u001b[39;00m\n\u001b[0;32m-> 5581\u001b[0m     \u001b[38;5;28;01mreturn\u001b[39;00m \u001b[38;5;28;43msuper\u001b[39;49m\u001b[43m(\u001b[49m\u001b[43m)\u001b[49m\u001b[38;5;241;43m.\u001b[39;49m\u001b[43mdrop\u001b[49m\u001b[43m(\u001b[49m\n\u001b[1;32m   5582\u001b[0m \u001b[43m        \u001b[49m\u001b[43mlabels\u001b[49m\u001b[38;5;241;43m=\u001b[39;49m\u001b[43mlabels\u001b[49m\u001b[43m,\u001b[49m\n\u001b[1;32m   5583\u001b[0m \u001b[43m        \u001b[49m\u001b[43maxis\u001b[49m\u001b[38;5;241;43m=\u001b[39;49m\u001b[43maxis\u001b[49m\u001b[43m,\u001b[49m\n\u001b[1;32m   5584\u001b[0m \u001b[43m        \u001b[49m\u001b[43mindex\u001b[49m\u001b[38;5;241;43m=\u001b[39;49m\u001b[43mindex\u001b[49m\u001b[43m,\u001b[49m\n\u001b[1;32m   5585\u001b[0m \u001b[43m        \u001b[49m\u001b[43mcolumns\u001b[49m\u001b[38;5;241;43m=\u001b[39;49m\u001b[43mcolumns\u001b[49m\u001b[43m,\u001b[49m\n\u001b[1;32m   5586\u001b[0m \u001b[43m        \u001b[49m\u001b[43mlevel\u001b[49m\u001b[38;5;241;43m=\u001b[39;49m\u001b[43mlevel\u001b[49m\u001b[43m,\u001b[49m\n\u001b[1;32m   5587\u001b[0m \u001b[43m        \u001b[49m\u001b[43minplace\u001b[49m\u001b[38;5;241;43m=\u001b[39;49m\u001b[43minplace\u001b[49m\u001b[43m,\u001b[49m\n\u001b[1;32m   5588\u001b[0m \u001b[43m        \u001b[49m\u001b[43merrors\u001b[49m\u001b[38;5;241;43m=\u001b[39;49m\u001b[43merrors\u001b[49m\u001b[43m,\u001b[49m\n\u001b[1;32m   5589\u001b[0m \u001b[43m    \u001b[49m\u001b[43m)\u001b[49m\n",
      "File \u001b[0;32m~/nuevo_env/lib/python3.13/site-packages/pandas/core/generic.py:4788\u001b[0m, in \u001b[0;36mNDFrame.drop\u001b[0;34m(self, labels, axis, index, columns, level, inplace, errors)\u001b[0m\n\u001b[1;32m   4786\u001b[0m \u001b[38;5;28;01mfor\u001b[39;00m axis, labels \u001b[38;5;129;01min\u001b[39;00m axes\u001b[38;5;241m.\u001b[39mitems():\n\u001b[1;32m   4787\u001b[0m     \u001b[38;5;28;01mif\u001b[39;00m labels \u001b[38;5;129;01mis\u001b[39;00m \u001b[38;5;129;01mnot\u001b[39;00m \u001b[38;5;28;01mNone\u001b[39;00m:\n\u001b[0;32m-> 4788\u001b[0m         obj \u001b[38;5;241m=\u001b[39m \u001b[43mobj\u001b[49m\u001b[38;5;241;43m.\u001b[39;49m\u001b[43m_drop_axis\u001b[49m\u001b[43m(\u001b[49m\u001b[43mlabels\u001b[49m\u001b[43m,\u001b[49m\u001b[43m \u001b[49m\u001b[43maxis\u001b[49m\u001b[43m,\u001b[49m\u001b[43m \u001b[49m\u001b[43mlevel\u001b[49m\u001b[38;5;241;43m=\u001b[39;49m\u001b[43mlevel\u001b[49m\u001b[43m,\u001b[49m\u001b[43m \u001b[49m\u001b[43merrors\u001b[49m\u001b[38;5;241;43m=\u001b[39;49m\u001b[43merrors\u001b[49m\u001b[43m)\u001b[49m\n\u001b[1;32m   4790\u001b[0m \u001b[38;5;28;01mif\u001b[39;00m inplace:\n\u001b[1;32m   4791\u001b[0m     \u001b[38;5;28mself\u001b[39m\u001b[38;5;241m.\u001b[39m_update_inplace(obj)\n",
      "File \u001b[0;32m~/nuevo_env/lib/python3.13/site-packages/pandas/core/generic.py:4830\u001b[0m, in \u001b[0;36mNDFrame._drop_axis\u001b[0;34m(self, labels, axis, level, errors, only_slice)\u001b[0m\n\u001b[1;32m   4828\u001b[0m         new_axis \u001b[38;5;241m=\u001b[39m axis\u001b[38;5;241m.\u001b[39mdrop(labels, level\u001b[38;5;241m=\u001b[39mlevel, errors\u001b[38;5;241m=\u001b[39merrors)\n\u001b[1;32m   4829\u001b[0m     \u001b[38;5;28;01melse\u001b[39;00m:\n\u001b[0;32m-> 4830\u001b[0m         new_axis \u001b[38;5;241m=\u001b[39m \u001b[43maxis\u001b[49m\u001b[38;5;241;43m.\u001b[39;49m\u001b[43mdrop\u001b[49m\u001b[43m(\u001b[49m\u001b[43mlabels\u001b[49m\u001b[43m,\u001b[49m\u001b[43m \u001b[49m\u001b[43merrors\u001b[49m\u001b[38;5;241;43m=\u001b[39;49m\u001b[43merrors\u001b[49m\u001b[43m)\u001b[49m\n\u001b[1;32m   4831\u001b[0m     indexer \u001b[38;5;241m=\u001b[39m axis\u001b[38;5;241m.\u001b[39mget_indexer(new_axis)\n\u001b[1;32m   4833\u001b[0m \u001b[38;5;66;03m# Case for non-unique axis\u001b[39;00m\n\u001b[1;32m   4834\u001b[0m \u001b[38;5;28;01melse\u001b[39;00m:\n",
      "File \u001b[0;32m~/nuevo_env/lib/python3.13/site-packages/pandas/core/indexes/base.py:7070\u001b[0m, in \u001b[0;36mIndex.drop\u001b[0;34m(self, labels, errors)\u001b[0m\n\u001b[1;32m   7068\u001b[0m \u001b[38;5;28;01mif\u001b[39;00m mask\u001b[38;5;241m.\u001b[39many():\n\u001b[1;32m   7069\u001b[0m     \u001b[38;5;28;01mif\u001b[39;00m errors \u001b[38;5;241m!=\u001b[39m \u001b[38;5;124m\"\u001b[39m\u001b[38;5;124mignore\u001b[39m\u001b[38;5;124m\"\u001b[39m:\n\u001b[0;32m-> 7070\u001b[0m         \u001b[38;5;28;01mraise\u001b[39;00m \u001b[38;5;167;01mKeyError\u001b[39;00m(\u001b[38;5;124mf\u001b[39m\u001b[38;5;124m\"\u001b[39m\u001b[38;5;132;01m{\u001b[39;00mlabels[mask]\u001b[38;5;241m.\u001b[39mtolist()\u001b[38;5;132;01m}\u001b[39;00m\u001b[38;5;124m not found in axis\u001b[39m\u001b[38;5;124m\"\u001b[39m)\n\u001b[1;32m   7071\u001b[0m     indexer \u001b[38;5;241m=\u001b[39m indexer[\u001b[38;5;241m~\u001b[39mmask]\n\u001b[1;32m   7072\u001b[0m \u001b[38;5;28;01mreturn\u001b[39;00m \u001b[38;5;28mself\u001b[39m\u001b[38;5;241m.\u001b[39mdelete(indexer)\n",
      "\u001b[0;31mKeyError\u001b[0m: \"['id'] not found in axis\""
     ]
    }
   ],
   "source": [
    "# Elimino el campo de 'id' y elimino los duplicados de la variable 'descripcion' que justamente contiene la descripción de cada publicación.\n",
    "DatosZonaProp = DatosZonaProp.drop('id', axis=1).drop_duplicates(subset=['descripcion'])\n",
    "DatosZonaProp"
   ]
  },
  {
   "cell_type": "markdown",
   "id": "7e1dac96-b970-4ca7-b03b-b6fa3eba47d8",
   "metadata": {},
   "source": [
    "## ¿Donde estámos?\n",
    "Para tener un sentido de donde nos encontramos respecto a los datos que tenemos podemos comenzar por la realización de unos hinstogramas para cada variable donde podemos ver donde se acumulan las distintas observaciónes de nuestro dataset.\n",
    "Como podemos apreciar podemos ver que la mayoría de departamentos se concentran sobre los valores más bajos respecto a la cantidad de ambientes, eso nos indica que hay valores extremos (hacia \"arriba\" o mayores) que nos están distorsionando el histograma. A continuación vermos de que se trata..."
   ]
  },
  {
   "cell_type": "code",
   "execution_count": null,
   "id": "ec7b6e82-6a9f-4963-883d-a6a37b34b540",
   "metadata": {},
   "outputs": [],
   "source": [
    "DatosZonaProp.describe()"
   ]
  },
  {
   "cell_type": "code",
   "execution_count": null,
   "id": "52180c0c-c082-4994-a376-d4efee6b5c94",
   "metadata": {},
   "outputs": [],
   "source": [
    "DatosZonaProp.hist(figsize=(10, 8));"
   ]
  },
  {
   "cell_type": "markdown",
   "id": "66c5e1dc-f9fd-43ef-acc6-8402f24c5c64",
   "metadata": {},
   "source": [
    "## La importancia de limpiar bien los datos:\n",
    "### Un departamento con 44 AMBIENTES??!!\n",
    "¡No puede ser verdad! Efectivamente no lo es, si investigamos un poco más podemos ver que se trata de un hogar para adultos mayores que se encuentra publicado como 'departamento'.\n",
    "Hacer limpieza de observaciones como estas resulta clave para que las estimaciónes que pensemos hacer sean de calidad."
   ]
  },
  {
   "cell_type": "code",
   "execution_count": null,
   "id": "8449b3a7-0baa-4df1-9cac-b5ac4f2abb58",
   "metadata": {},
   "outputs": [],
   "source": [
    "# Aquí podemos ver la importancia de limpiar bien los datos, un departamento con 44 AMBIENTES??!!\n",
    "DatosZonaProp.sort_values('ambientes', ascending=False)"
   ]
  },
  {
   "cell_type": "code",
   "execution_count": null,
   "id": "174e5905-08cf-4c77-977f-d842562d749c",
   "metadata": {},
   "outputs": [],
   "source": [
    "# Aquí podemos inspeccionar de cual publicación se trata\n",
    "Departamento_raro = DatosZonaProp[DatosZonaProp['id_zonaprop']== 50800069]\n",
    "descripcion = Departamento_raro[['descripcion']]\n",
    "print(descripcion)"
   ]
  },
  {
   "cell_type": "markdown",
   "id": "24744e4a-c2b9-4400-95fb-bbeb79dc2b74",
   "metadata": {},
   "source": [
    "## ¿Cuantos ambientes puede tener un departamento?"
   ]
  },
  {
   "cell_type": "code",
   "execution_count": null,
   "id": "839b3836-d705-4dd8-a95c-520c609a6c55",
   "metadata": {},
   "outputs": [],
   "source": [
    "result = DatosZonaProp.groupby('ambientes')['precio'].count()\n",
    "display(result)"
   ]
  },
  {
   "cell_type": "markdown",
   "id": "f24b343c-3757-486e-8854-1f320e0b6ed7",
   "metadata": {},
   "source": [
    "### Observaciones:\n",
    "Aqui podemos ver que los valores que toma la variable ambientes carecen de sentido a partir de alrededor de 10 ambientes, que es un numero dificil de llegar o al menos extraño, a menos que se trate de un lujoso piso.\n",
    "Por otro lado podemos asumir que los valores que exceden este límite son resultado de errores en la carga de datos por parte de los anunciantes, ya sea porque se publican como 'departamento' a un conjunto de unidades que se venden como comunmente se conoce \"en block\" o ya sea por un error de tipeado y donde se quizo poner 2 ambientes, se puso 22 ambientes.\n",
    "Estos valores serán eliminados como parte del proceso de limpieza de datos."
   ]
  },
  {
   "cell_type": "code",
   "execution_count": null,
   "id": "1d901f9f-e8f6-472e-9dd1-aea62b743415",
   "metadata": {},
   "outputs": [],
   "source": [
    "DatosZonaProp = DatosZonaProp[DatosZonaProp['ambientes']<=10]\n",
    "result = DatosZonaProp.groupby('ambientes')['precio'].count()\n",
    "display(result)"
   ]
  },
  {
   "cell_type": "markdown",
   "id": "481e10c7-bf2f-4b12-8b5a-a585f2211e0f",
   "metadata": {},
   "source": [
    "### ¿Ambientes negativos?\n",
    "No puede ser posible que una unidad tenga una cantidad de ambientes negativos, por lo veremos de que se trata"
   ]
  },
  {
   "cell_type": "code",
   "execution_count": null,
   "id": "b03d9d2e-6bd6-4f74-a1f3-724b63441540",
   "metadata": {},
   "outputs": [],
   "source": [
    "\n",
    "ambientes_menos_a_uno = DatosZonaProp[DatosZonaProp['ambientes'] < 0 ]\n",
    "ambientes_menos_a_uno.sort_values('ambientes').head()"
   ]
  },
  {
   "cell_type": "markdown",
   "id": "02e73da6-eca1-4cf8-9468-de362361eb10",
   "metadata": {},
   "source": [
    "#### Eliminamos el departamento que contiene valores negativos."
   ]
  },
  {
   "cell_type": "code",
   "execution_count": null,
   "id": "d4fd7530-1b59-4f2e-87cd-4dc2852b3c21",
   "metadata": {},
   "outputs": [],
   "source": [
    "# Se elimina la observación con ambientes negativos y cocheras negativas, conservando los mayores o iguales a cero.\n",
    "DatosZonaProp = DatosZonaProp[DatosZonaProp['ambientes'] >= 0 ]\n",
    "DatosZonaProp = DatosZonaProp[DatosZonaProp['cocheras'] >= 0]"
   ]
  },
  {
   "cell_type": "markdown",
   "id": "80b09e5d-f15b-41d5-93e5-e655f085ddca",
   "metadata": {},
   "source": [
    "## Eliminación de los datos extremos\n",
    "### ¿Como quedaron los histogramas luego de la corrección en la cantidad de ambientes?\n",
    "* Podemos ver que la distribución de ambientes luce más normal, ya que no posee los valores extremos que habíamos visto anteriormente.\n",
    "* Aún así observamos que se sigue dando la misma situación respecto a los metros cuadrados, cocheras y baños.\n",
    "* Hay que revisar que sucede con las expensas, pero a priori aparentaría tener una distribución similar al precio."
   ]
  },
  {
   "cell_type": "code",
   "execution_count": null,
   "id": "ed689767-179c-4c67-b649-431c94f6c0a2",
   "metadata": {},
   "outputs": [],
   "source": [
    "DatosZonaProp.hist(figsize=(10,8));"
   ]
  },
  {
   "cell_type": "code",
   "execution_count": null,
   "id": "9c00edb7-1462-49c5-b514-18c0c2630b5d",
   "metadata": {},
   "outputs": [],
   "source": [
    "result1 = DatosZonaProp.groupby('baños')['precio'].count()\n",
    "display(result1)\n",
    "\n",
    "result2 = DatosZonaProp.groupby('cocheras')['precio'].count()\n",
    "display(result2)\n",
    "\n",
    "result3 = DatosZonaProp.groupby('metros_cuadrados')['precio'].count()\n",
    "display(result3)"
   ]
  },
  {
   "cell_type": "markdown",
   "id": "0ae5bb12-f010-4ffe-8452-85b3c7d12154",
   "metadata": {},
   "source": [
    "# Valores Extremos o Outliers.\n",
    "### El criterio a utilizar.\n",
    " Cuando tenemos **valores extremos** podemos utilizar como criterio la eliminación de valores que se encuentren a **más de dos desvios estandard de distancia de la mediana**.\n",
    "### Aclaración \n",
    "Pese a que metodológicamente sea cuestionable, **solo aplicaré el límite superior de dicho criterio**, por lo tanto quedarán los valores que sean menores al la mediana más el doble del desvio estandar. La excepción serán los metros cuadrados por ambiente, medida que estimaremos más adelante."
   ]
  },
  {
   "cell_type": "code",
   "execution_count": null,
   "id": "9868b425-95bc-4e29-9042-764d01d0707b",
   "metadata": {},
   "outputs": [],
   "source": [
    "DatosZonaProp.describe()"
   ]
  },
  {
   "cell_type": "code",
   "execution_count": null,
   "id": "5fe27ec5-516a-4723-b5ad-ed1999b44941",
   "metadata": {},
   "outputs": [],
   "source": [
    "# Aquí calculamos los desvios estandar\n",
    "desvest_dormitorios = float(DatosZonaProp['dormitorios'].std())\n",
    "desvest_baños = float(DatosZonaProp['baños'].std())\n",
    "desvest_cocheras = float(DatosZonaProp['cocheras'].std())\n",
    "desvest_metros_cuadrados = float(DatosZonaProp['metros_cuadrados'].std())\n",
    "\n",
    "# medianas\n",
    "mediana_dormitorios = float(DatosZonaProp['dormitorios'].median())\n",
    "mediana_baños = float(DatosZonaProp['baños'].median())\n",
    "mediana_cocheras = float(DatosZonaProp['cocheras'].median())\n",
    "mediana_metros_cuadrados = float(DatosZonaProp['metros_cuadrados'].median())\n",
    "\n",
    "# Medias\n",
    "media_dormitorios = float(DatosZonaProp['dormitorios'].mean())\n",
    "media_baños = float(DatosZonaProp['baños'].mean())\n",
    "media_cocheras = float(DatosZonaProp['cocheras'].mean())\n",
    "media_metros_cuadrados = float(DatosZonaProp['metros_cuadrados'].mean())\n",
    "\n",
    "# Calculo y exposición de los coeficientes de variabilidad:\n",
    "coe_var_dormitorios = desvest_dormitorios / media_dormitorios\n",
    "coe_var_baños = desvest_baños / media_baños\n",
    "coe_var_cocheras = desvest_cocheras / media_cocheras\n",
    "coe_var_metros_cuadrados = desvest_metros_cuadrados / media_metros_cuadrados\n",
    "\n",
    "print(f'Coeficiente de variabilidad de dormitorios:  {coe_var_dormitorios}\\nCoeficiente de variabilidad de baños:  {coe_var_baños}\\nCoeficiente de variabilidad de cocheras:  {coe_var_cocheras}\\nCoeficiente de variabilidad de metros cuadrados:  {coe_var_metros_cuadrados}')\n"
   ]
  },
  {
   "cell_type": "markdown",
   "id": "8cb7d459-9b6b-4dcc-ac83-0095fd02e607",
   "metadata": {},
   "source": [
    "### Coeficientes de variabilidad.\n",
    "A la hora de realizar la quita de los valores extremos o outliers me dí cuenta que los valores de los desvíos estandar eran bastante altos respecto a las medias, con lo cual no iban a poder hacer mucho para remover los valores extremos. Por eso me di cuenta que lo mejor iba a ser estimar una medida conocida como **coeficiente de variabilidad** que me iba a permitir decidir qué variables podían ser removidas utilizando el criterio elegido anteriormente. Y como podemos ver, los valores son elevados, lo que indica que **no podremos remover algunos de los outliers con el criterio elegido.**\n",
    "**Entonces, al menos inicialmente, solo podremos remover los valores de los dormitorios.**\n",
    "### Aclaración:\n",
    "Aún así, se emplearán aunque resulten poco efectivos y más adelante resolveremos el problema.\n",
    "Por otro lado, aparenta haber valores negativos en cocheras para algunas observaciónes, serán removidas con un límite inferior de 0."
   ]
  },
  {
   "cell_type": "code",
   "execution_count": null,
   "id": "7ab2d0c0-3c39-4a9f-b671-0df7ed9a0664",
   "metadata": {},
   "outputs": [],
   "source": [
    "li_dormitorios = mediana_dormitorios - 2 * desvest_dormitorios\n",
    "ls_dormitorios = mediana_dormitorios + 2 * desvest_dormitorios\n",
    "\n",
    "li_baños = mediana_baños - 2 * desvest_baños\n",
    "ls_baños = mediana_baños + 2 * desvest_baños\n",
    "\n",
    "li_cocheras = mediana_cocheras - 2 * desvest_cocheras\n",
    "ls_cocheras = mediana_cocheras + 2 * desvest_cocheras\n",
    "\n",
    "li_metros_cuadrados = mediana_metros_cuadrados - 2 * desvest_metros_cuadrados\n",
    "ls_metros_cuadrados = mediana_metros_cuadrados + 2 * desvest_metros_cuadrados\n",
    "\n",
    "print(f'Límites dormitorios: {li_dormitorios}, {ls_dormitorios}\\nLímites baños: {li_baños}, {ls_baños}\\nLímites cocheras: {li_cocheras}, {ls_cocheras}\\nLímites metros cuadrados: {li_metros_cuadrados}, {ls_metros_cuadrados}')"
   ]
  },
  {
   "cell_type": "markdown",
   "id": "8e415160-69d5-4933-807e-c0f25918b49b",
   "metadata": {},
   "source": [
    "### El criterio seleccionado para remover valores extremos no resulta aceptable.\n",
    "Como podemos notar en los valores de arriba, los límites establecidos por el criterio seleccionado no resultan aceptables ya que son muy grandes o incluso negativos en el caso de los inferiores, por lo que debemos cambiar el criterio a aplicar."
   ]
  },
  {
   "cell_type": "markdown",
   "id": "0ac62059-e2ab-4476-8592-d28bf993a75b",
   "metadata": {},
   "source": [
    "## Nuevo criterio para tratar outliers:\n",
    "#### **Metodo del rango inter cuartil.**\n",
    "Como vuelve a resultar un límite inferior negativo, **cambiaré de metodo para remover valores extremos** o outliers. En este caso utilizaré el siguiente metodo: Se quitarán todos los valores superiores a el tercer cuartil (Q3) más 1,5 veces el rango intercuartil (IQR = Q3 - Q1), es decír (Q3 + 1,5*IQR) y todos los valores inferiores a (Q1 - 1.5 IQR)."
   ]
  },
  {
   "cell_type": "markdown",
   "id": "4b9b6fce-e93a-4f24-857b-495135fdf3ba",
   "metadata": {},
   "source": [
    "### Parte del problema: Propiedades \"en block\".\n",
    "Si ordenamos los departamentos según los metros cuadrados que posean de forma descendente podemos ver cuales son los valores extremos con los que estamos tratando.\n",
    "Aquí podemos ver que se trata denuevo de propiedades \"en block\" o sencillamente de una mala carga de datos."
   ]
  },
  {
   "cell_type": "code",
   "execution_count": null,
   "id": "cab90184-b0bd-402b-8491-d84617b00421",
   "metadata": {
    "scrolled": true
   },
   "outputs": [],
   "source": [
    "DatosZonaProp.sort_values('metros_cuadrados', ascending=False).head(20)"
   ]
  },
  {
   "cell_type": "markdown",
   "id": "e826e389-4ae4-4149-8d2e-f3c75bcfb047",
   "metadata": {},
   "source": [
    "### Una posible solución al problema de las propiedades \"en block\": Metros cuadrados por ambiente.\n",
    "Para solucionar el problema, lo que hice fue **crear una nueva columna** que compute la **cantidad de metros cuadrados por cada ambiente** que debería tener un departamento. Lo que nos puede ayudar a quitar los datos mal cargados, diferenciandolos de los departamentos que solo son grandes."
   ]
  },
  {
   "cell_type": "code",
   "execution_count": null,
   "id": "49e7da04-3389-45dd-a7f4-503bf31c6459",
   "metadata": {
    "scrolled": true
   },
   "outputs": [],
   "source": [
    "DatosZonaProp['metros_cuad_por_amb'] = DatosZonaProp['metros_cuadrados'] / DatosZonaProp['ambientes']\n",
    "\n",
    "# Coloco la columna al lado de la de metros_cuadrados\n",
    "posicion_metros_cuadrados = DatosZonaProp.columns.get_loc('metros_cuadrados')\n",
    "DatosZonaProp.insert(loc=posicion_metros_cuadrados + 1, column='metros_cuad_por_amb', value=DatosZonaProp.pop('metros_cuad_por_amb'))\n",
    "\n",
    "DatosZonaProp.sort_values('metros_cuad_por_amb', ascending=False).head(20)"
   ]
  },
  {
   "cell_type": "code",
   "execution_count": null,
   "id": "0020b121-5d7e-45a8-9276-23f4ec317cfd",
   "metadata": {},
   "outputs": [],
   "source": [
    "DatosZonaProp['metros_cuad_por_amb'].describe()"
   ]
  },
  {
   "cell_type": "code",
   "execution_count": null,
   "id": "9dd5860e-e876-479b-a0d6-615e1740a646",
   "metadata": {},
   "outputs": [],
   "source": [
    "mediana_metros_cuad_por_amb = float(DatosZonaProp['metros_cuad_por_amb'].median())\n",
    "print(mediana_metros_cuad_por_amb)"
   ]
  },
  {
   "cell_type": "markdown",
   "id": "d714d9c5-378e-4cdb-887a-bafc9880f1cd",
   "metadata": {},
   "source": [
    "## Aplicación del metodo intercuartil.\n",
    "#### Para los metros cuadrados por ambiente:"
   ]
  },
  {
   "cell_type": "code",
   "execution_count": null,
   "id": "6e782be2-4ecf-4c0a-b443-eee6c799c16b",
   "metadata": {},
   "outputs": [],
   "source": [
    "Q1_metros_cuad_por_amb = float(DatosZonaProp['metros_cuad_por_amb'].quantile(0.25))\n",
    "Q3_metros_cuad_por_amb = float(DatosZonaProp['metros_cuad_por_amb'].quantile(0.75))\n",
    "\n",
    "IQR_metros_cuad_por_amb = Q3_metros_cuad_por_amb - Q1_metros_cuad_por_amb\n",
    "\n",
    "li_metros_cuad_por_amb = Q1_metros_cuad_por_amb - 1.5 * IQR_metros_cuad_por_amb\n",
    "ls_metros_cuad_por_amb = Q3_metros_cuad_por_amb + 1.5 * IQR_metros_cuad_por_amb\n",
    "\n",
    "print(f'Límite inferior:  {li_metros_cuad_por_amb}\\nLímite superior:  {ls_metros_cuad_por_amb}')"
   ]
  },
  {
   "cell_type": "markdown",
   "id": "b37a8f09-4431-48f7-92eb-49d708fae064",
   "metadata": {},
   "source": [
    "**Implementamos los nuevos límites:**"
   ]
  },
  {
   "cell_type": "code",
   "execution_count": null,
   "id": "d7384283-adf6-44ac-b4e6-e3d6b098778a",
   "metadata": {},
   "outputs": [],
   "source": [
    "DatosZonaProp = DatosZonaProp[DatosZonaProp['metros_cuad_por_amb']>= li_metros_cuad_por_amb]\n",
    "DatosZonaProp = DatosZonaProp[DatosZonaProp['metros_cuad_por_amb']<= ls_metros_cuad_por_amb]"
   ]
  },
  {
   "cell_type": "markdown",
   "id": "185764f3-0624-4aac-81e9-42d3a1a6782c",
   "metadata": {},
   "source": [
    "### Resultado:\n",
    "Podemos ver una distribución que no cuenta con valores tan extremos que distorsionaban el histograma de frecuencias y tenemos algo que se asemeja a una distribución normal. Lo mismo sucede debajo con la distribución de de los metros cuadrados por ambiente."
   ]
  },
  {
   "cell_type": "code",
   "execution_count": null,
   "id": "bfbdcd12-5f77-4ef3-aa9b-e7c1369ecded",
   "metadata": {},
   "outputs": [],
   "source": [
    "DatosZonaProp.hist(['metros_cuadrados', 'metros_cuad_por_amb'], figsize=(10,4));"
   ]
  },
  {
   "cell_type": "code",
   "execution_count": null,
   "id": "b83524ba-1750-4e9a-bf03-127a7848193f",
   "metadata": {},
   "outputs": [],
   "source": [
    "DatosZonaProp['metros_cuad_por_amb'].describe()"
   ]
  },
  {
   "cell_type": "markdown",
   "id": "135a6375-8e9d-4c96-b6f0-8c8e01ca5594",
   "metadata": {},
   "source": [
    "## Continuamos en la aplicación del metodo del rango intercuartil.\n",
    "Ahora lo aplicaremos para las variables:\n",
    "- **ambientes**\n",
    "- **baños**\n",
    "- **dormitorios**"
   ]
  },
  {
   "cell_type": "code",
   "execution_count": null,
   "id": "0708bd46-e5f1-483f-b19f-74fe63bef248",
   "metadata": {},
   "outputs": [],
   "source": [
    "Q1_ambientes = float(DatosZonaProp['ambientes'].quantile(0.25))\n",
    "Q3_ambientes = float(DatosZonaProp['ambientes'].quantile(0.75))\n",
    "\n",
    "IQR_ambientes = Q3_ambientes - Q1_ambientes\n",
    "\n",
    "li_ambientes = Q1_ambientes - 1.5 * IQR_ambientes\n",
    "ls_ambientes = Q3_ambientes + 1.5 * IQR_ambientes\n",
    "\n",
    "print(f'Límite inferior:  {li_ambientes}\\nLímite superior:  {ls_ambientes}')"
   ]
  },
  {
   "cell_type": "code",
   "execution_count": null,
   "id": "2a905207-9153-4763-b7c8-5e30a20db98a",
   "metadata": {},
   "outputs": [],
   "source": [
    "DatosZonaProp.boxplot(column='ambientes',vert=False);"
   ]
  },
  {
   "cell_type": "code",
   "execution_count": null,
   "id": "e2c4278a-f1f7-4a42-9f76-42d6263a26db",
   "metadata": {
    "scrolled": true
   },
   "outputs": [],
   "source": [
    "DatosZonaProp.sort_values('ambientes', ascending=False).head(20)"
   ]
  },
  {
   "cell_type": "code",
   "execution_count": null,
   "id": "a344f360-7bf9-4fde-a3fa-cc51295149fd",
   "metadata": {},
   "outputs": [],
   "source": [
    "DatosZonaProp['link'][DatosZonaProp['id_zonaprop']==53887768].iloc[0]"
   ]
  },
  {
   "cell_type": "markdown",
   "id": "6fa41074-8be4-405f-bb77-0a9bf38b41b5",
   "metadata": {},
   "source": [
    "### Observación:\n",
    "Fuera del rango de valores delímitado por el límite superior de para la cantidad de ambientes que calculé (4,5) quedan departamentos que son válidos en nuestro dataset, ya que se trata de la categoría \"pisos\".\n",
    "Con el fin de incluirlos y no dejarlos a fuera, no aplicaré en este caso el criterio para la cantidad de ambientes. Haré primero la prueba de si se pueden eliminar dichos outliers a travez de las otras variables.\n",
    "### Una nueva metrica: Baños por ambientes.\n",
    "Pese a que se pueda dar el caso de que existan lujosos departamentos con un baño por dormitorio, el ratio entre la cantidad de baños que tienen un dormitorio suele ser un numero relativamente bajo para la mayoría de casos, a menos que se trate de propiedades \"en block\", hoteles, o similares casos."
   ]
  },
  {
   "cell_type": "code",
   "execution_count": null,
   "id": "7ab9939b-b9e2-4c28-931b-7c06efe6e14b",
   "metadata": {},
   "outputs": [],
   "source": [
    "Q1_baños = float(DatosZonaProp['baños'].quantile(0.25))\n",
    "Q3_baños = float(DatosZonaProp['baños'].quantile(0.75))\n",
    "\n",
    "IQR_baños = Q3_baños - Q1_baños\n",
    "\n",
    "li_baños = Q1_baños - 1.5 * IQR_baños\n",
    "ls_baños = Q3_baños + 1.5 * IQR_baños\n",
    "\n",
    "print(f'Límite inferior:  {li_baños}\\nLímite superior:  {ls_baños}')"
   ]
  },
  {
   "cell_type": "code",
   "execution_count": null,
   "id": "071a50b0-b424-4f8b-aed6-6fb00f382e31",
   "metadata": {
    "scrolled": true
   },
   "outputs": [],
   "source": [
    "DatosZonaProp[DatosZonaProp['baños']>=ls_baños].sort_values('baños',ascending=False).head(20)"
   ]
  },
  {
   "cell_type": "code",
   "execution_count": null,
   "id": "0d919863-db34-43e1-8e41-258a9e604e37",
   "metadata": {},
   "outputs": [],
   "source": [
    "DatosZonaProp[DatosZonaProp['baños']>=ls_baños].count()"
   ]
  },
  {
   "cell_type": "markdown",
   "id": "becfb45d-b68b-4c30-ad7c-1709c7be14a3",
   "metadata": {},
   "source": [
    "## El problema de las unidades grandes:\n",
    "Dado que los departamentos grandes suelen salirse de lo común y por lo tanto es frecuente que queden fuera de los limites superiores que impongo para las distintas variables, una ingeniosa solución a esto puede ser **el uso de expresiones regulares**.\n",
    "\n",
    "*'Las expresiones regulares (o regex) son una herramienta para buscar y manipular patrones dentro de cadenas de texto.'*\n",
    "\n",
    "En este caso la siguiente '\\bblock\\b|\\bhotel\\b|\\bcomplejo\\b|\\bhostel\\b' que implica buscar las palabras 'block', 'hotel', 'complejo' y 'hostel' dentro de las descripciones y en caso de encontrarse devolver el valor booleano 'True', en este caso en la columna 'se_va'."
   ]
  },
  {
   "cell_type": "code",
   "execution_count": null,
   "id": "633ecef4-f768-4ef1-8483-16624ba7cec9",
   "metadata": {
    "scrolled": true
   },
   "outputs": [],
   "source": [
    "DatosZonaProp['se_va'] = DatosZonaProp['descripcion'].str.contains(r'\\bblock\\b|\\bhotel\\b|\\bcomplejo\\b|\\bhostel\\b|\\bbloque\\b|\\bduplex\\b',regex=True, case=False)\n",
    "DatosZonaProp['se_va'] = DatosZonaProp['nombre'].str.contains(r'\\bblock\\b|\\bhotel\\b|\\bcomplejo\\b|\\bhostel\\b|\\bbloque\\b|\\bduplex\\b',regex=True, case=False)\n",
    "DatosZonaProp.sort_values('baños', ascending=False).head(30)"
   ]
  },
  {
   "cell_type": "code",
   "execution_count": null,
   "id": "05b779da-051e-48fe-bffe-c6276e426825",
   "metadata": {},
   "outputs": [],
   "source": [
    "# Ahora removemos los valores que tienen 'True' en la columna 'se_va'\n",
    "DatosZonaProp = DatosZonaProp[DatosZonaProp['se_va'] != True]"
   ]
  },
  {
   "cell_type": "code",
   "execution_count": null,
   "id": "5e6b6593-1acc-4569-b87e-76345a5aac45",
   "metadata": {},
   "outputs": [],
   "source": [
    "DatosZonaProp.hist(figsize=(10,8));"
   ]
  },
  {
   "cell_type": "markdown",
   "id": "e53577cc-f1a2-450e-9e8d-f2b8eff7ac08",
   "metadata": {},
   "source": [
    "======================================================================================================"
   ]
  },
  {
   "cell_type": "markdown",
   "id": "09769292-18e8-47cc-b4d6-e641bd34f3c5",
   "metadata": {},
   "source": [
    "## Continuamos limpiando valores extremos:\n",
    "Utilizando el metodo '.describe()' puedo ver las principales estadísticas para cada serie dentro de mi dataset.\n",
    "Si centramos nuestra atención sobre los máximos para 'ambientes', 'dormitorios', 'baños' y 'cocheras', podemos observar que aún existen outliers o valores extremos que pueden distorsionar nuestro dataset."
   ]
  },
  {
   "cell_type": "code",
   "execution_count": null,
   "id": "d74d5565-e69d-4df7-9b39-d377004ac757",
   "metadata": {},
   "outputs": [],
   "source": [
    "DatosZonaProp[['metros_cuadrados', 'ambientes', 'dormitorios', 'baños', 'cocheras']].describe()"
   ]
  },
  {
   "cell_type": "code",
   "execution_count": null,
   "id": "c2c818c2-8bde-412b-b345-121c796b4624",
   "metadata": {
    "scrolled": true
   },
   "outputs": [],
   "source": [
    "DatosZonaProp.sort_values('baños', ascending=False)"
   ]
  },
  {
   "cell_type": "code",
   "execution_count": null,
   "id": "1685f7f1-d803-4b20-9775-6c6ccf340d02",
   "metadata": {},
   "outputs": [],
   "source": [
    "DatosZonaProp = DatosZonaProp[DatosZonaProp['baños']<=6]"
   ]
  },
  {
   "cell_type": "code",
   "execution_count": null,
   "id": "d25296c3-20f3-42b5-8196-5614827cf3e4",
   "metadata": {},
   "outputs": [],
   "source": [
    "DatosZonaProp.hist(figsize=(10,8));"
   ]
  },
  {
   "cell_type": "code",
   "execution_count": null,
   "id": "c8c67ac3-b226-43b6-b6ee-00207d08a8ee",
   "metadata": {
    "scrolled": true
   },
   "outputs": [],
   "source": [
    "DatosZonaProp[DatosZonaProp['cocheras']>= 5].sort_values('cocheras',ascending=False)"
   ]
  },
  {
   "cell_type": "code",
   "execution_count": null,
   "id": "3e5552ee-72a0-4bd1-8665-c2e7f210ba1f",
   "metadata": {},
   "outputs": [],
   "source": [
    "DatosZonaProp[DatosZonaProp['cocheras']>= 4].count()"
   ]
  },
  {
   "cell_type": "code",
   "execution_count": null,
   "id": "57e3db18-5859-4070-9a3c-22cce95bba05",
   "metadata": {},
   "outputs": [],
   "source": [
    "# Acá elimino aquellas publicaciones con más o de 4 cocheras.\n",
    "DatosZonaProp = DatosZonaProp[DatosZonaProp['cocheras']<= 4]"
   ]
  },
  {
   "cell_type": "code",
   "execution_count": null,
   "id": "5f583e1b-9965-4cb2-ae5d-bb1e4093324a",
   "metadata": {},
   "outputs": [],
   "source": [
    "DatosZonaProp[DatosZonaProp['dormitorios'] >= 10].sort_values('dormitorios',ascending=False).head(30) "
   ]
  },
  {
   "cell_type": "code",
   "execution_count": null,
   "id": "6c42b5ed-24ca-4d70-b924-f76fa98447a1",
   "metadata": {},
   "outputs": [],
   "source": [
    "# Elimino el único outlier.\n",
    "DatosZonaProp = DatosZonaProp[DatosZonaProp['dormitorios'] <= 10]"
   ]
  },
  {
   "cell_type": "code",
   "execution_count": null,
   "id": "e0746ba8-f449-4b16-9e2b-eadddc5e8879",
   "metadata": {},
   "outputs": [],
   "source": [
    "DatosZonaProp.hist(figsize=(10,8));"
   ]
  },
  {
   "cell_type": "markdown",
   "id": "ac14f100-2bdc-4ff7-8b97-020215f2b647",
   "metadata": {},
   "source": [
    "## Finalmente queda limpiar las expensas\n",
    "**A continuación las pruebas respecto a los intervalos que eliminasen la menor cantidad de datos posibles mientras aún mantengan la integriadad del dataset en relación a valores distorsionados.**\n",
    "Pero, como puede advertise, los intervalos no me satisfacían ya que discriminaban unidades más grandes y por lo tanto se estaría perdiendo información."
   ]
  },
  {
   "cell_type": "code",
   "execution_count": null,
   "id": "1a6a6e2d-da03-4c41-9745-a3e3fef7210c",
   "metadata": {},
   "outputs": [],
   "source": [
    "Q1_expensas = float(DatosZonaProp['expensas'].quantile(0.25))\n",
    "Q3_expensas = float(DatosZonaProp['expensas'].quantile(0.75))\n",
    "\n",
    "IQR_expensas = Q3_expensas - Q1_expensas\n",
    "\n",
    "li_expensas = Q1_expensas - 1.5 * IQR_expensas\n",
    "ls_expensas = Q3_expensas + 1.5 * IQR_expensas\n",
    "\n",
    "print(f'Límite inferior:  {li_expensas}\\nLímite superior:  {ls_expensas}')"
   ]
  },
  {
   "cell_type": "code",
   "execution_count": null,
   "id": "4920baff-9e9d-4f5c-8856-e4dab21e24a2",
   "metadata": {},
   "outputs": [],
   "source": [
    "Qi_expensas = float(DatosZonaProp['expensas'].quantile(0.05))\n",
    "Qs_expensas = float(DatosZonaProp['expensas'].quantile(0.95))\n",
    "print(f'Límite inferior:  {Qi_expensas}\\nLímite superior:  {Qs_expensas}')"
   ]
  },
  {
   "cell_type": "markdown",
   "id": "9b6ff4ab-0ad2-42b5-b6ba-c2f9c1044330",
   "metadata": {},
   "source": [
    "## Creación de una nueva metrica: El ratio entre precio y expensas (en usd)\n",
    "El valor del dolar es un aproximado de 1000, lo cual lo tomo como supesto que me es suficiente para alcanzar un determinado orden de magnitud que se aproxime a lo que necesesito acá. Es ciertamente cuestionable ya que habría que verificar el valor del dolar en el momento que se realizo cada publicación pero también es cierto que muchas de las publicaciónes son renovadas frecuentemente, esto sin incluir el hecho que las expensas en la gran mayoría de los casos son pagadas en pesos y cambian mes a mes."
   ]
  },
  {
   "cell_type": "code",
   "execution_count": null,
   "id": "e0295d61-49be-4dcc-81b9-5d8b1435cdf8",
   "metadata": {},
   "outputs": [],
   "source": [
    "con_expen = DatosZonaProp[DatosZonaProp['expensas'] != np.nan]"
   ]
  },
  {
   "cell_type": "code",
   "execution_count": null,
   "id": "2b615582-650d-486e-bc29-c6e2eaff627d",
   "metadata": {},
   "outputs": [],
   "source": [
    "con_expen['ratio_precio_expen'] = con_expen['precio'] / ( con_expen['expensas'] / 1000 )\n",
    "con_expen.insert(loc=2, column='ratio_precio_expen', value=con_expen.pop('ratio_precio_expen'))"
   ]
  },
  {
   "cell_type": "markdown",
   "id": "39e092a7-10db-4398-99f6-91e293f5aa36",
   "metadata": {},
   "source": [
    "### Se puede comprobar que el valor del ratio calculado tambien se encuentra altamente distorsionado."
   ]
  },
  {
   "cell_type": "code",
   "execution_count": null,
   "id": "1ee4f337-b4b9-4ee9-bd11-ab166c2ca8ba",
   "metadata": {},
   "outputs": [],
   "source": [
    "con_expen.hist('ratio_precio_expen');"
   ]
  },
  {
   "cell_type": "code",
   "execution_count": null,
   "id": "d4e9fb03-677c-4a44-8ca9-16c9cdf9a47d",
   "metadata": {},
   "outputs": [],
   "source": [
    "con_expen['expensas'].count()"
   ]
  },
  {
   "cell_type": "markdown",
   "id": "c8293690-59b1-4647-af0f-f503f323a6e8",
   "metadata": {},
   "source": [
    "### Acá me ocupo de remover valores que las personas que publican suelen colocar en vez de no completar el campo.\n",
    "Es una practica habitual que por diversos motivos los anunciantes coloquen que por ejemplo el valor de las expensas es de $1.111.111 en vez de no poner nada."
   ]
  },
  {
   "cell_type": "code",
   "execution_count": null,
   "id": "f9183c38-8857-47c4-aff2-689d903eafd5",
   "metadata": {},
   "outputs": [],
   "source": [
    "con_expen = con_expen[~con_expen['expensas'].isin([1, 11, 111, 1111, 11111, 111111, 1111111])]\n",
    "con_expen = con_expen[con_expen['expensas'] >= 10000]"
   ]
  },
  {
   "cell_type": "markdown",
   "id": "716a82bd-818a-464b-9a94-0b73c2938c65",
   "metadata": {},
   "source": [
    "### Para remover los outliers en este caso decidí optar por un criterio más estricto.\n",
    "El criterio a usar sería conservar el 60% de los valores centrales, es decir los encontrados entre el percentil 20 y el percentil 80, ya que existen muchos casos de valores desactualizados por inflación dentro de la serie."
   ]
  },
  {
   "cell_type": "code",
   "execution_count": null,
   "id": "a7d36eaf-7154-404a-9736-97919832c9ba",
   "metadata": {},
   "outputs": [],
   "source": [
    "li_ratio_precio_expen = float(con_expen['ratio_precio_expen'].quantile(0.20))\n",
    "ls_ratio_precio_expen = float(con_expen['ratio_precio_expen'].quantile(0.80))\n",
    "\n",
    "print(f'Límite inferior:  {li_ratio_precio_expen}\\nLímite superior:  {ls_ratio_precio_expen}')\n",
    "con_expen['expensas'].count()"
   ]
  },
  {
   "cell_type": "code",
   "execution_count": null,
   "id": "a3feff9d-2b2e-44e2-99c8-2f4fb8c0a872",
   "metadata": {
    "scrolled": true
   },
   "outputs": [],
   "source": [
    "con_expen.sort_values('ratio_precio_expen',ascending=False).head(30)"
   ]
  },
  {
   "cell_type": "code",
   "execution_count": null,
   "id": "60607407-01a8-4736-8e24-88895a8cdcd3",
   "metadata": {},
   "outputs": [],
   "source": [
    "con_expen['expensas'].count()"
   ]
  },
  {
   "cell_type": "markdown",
   "id": "7acbdb8f-de9e-482c-b024-1f30b768524a",
   "metadata": {},
   "source": [
    "### Finalmente removemos los outliers."
   ]
  },
  {
   "cell_type": "code",
   "execution_count": null,
   "id": "c2e4c04d-d17c-4f04-964c-c23f559ed612",
   "metadata": {},
   "outputs": [],
   "source": [
    "con_expen = con_expen[con_expen['ratio_precio_expen'] >= li_ratio_precio_expen]\n",
    "con_expen = con_expen[con_expen['ratio_precio_expen'] <= ls_ratio_precio_expen]\n",
    "con_expen['expensas'].count()"
   ]
  },
  {
   "cell_type": "markdown",
   "id": "a9aaaf40-25c3-4ec9-9059-3456873ef4e2",
   "metadata": {},
   "source": [
    "#### Observación:\n",
    "Podemos ver que una vez aplicado el filtro pasamos de 4084 observaciónes a 2452, una reducción substancial que refleja lo estricto de este último filtro."
   ]
  },
  {
   "cell_type": "code",
   "execution_count": null,
   "id": "7386490c-0a36-4e90-bd36-3ccdab772440",
   "metadata": {},
   "outputs": [],
   "source": [
    "con_expen.hist('expensas', bins=10);"
   ]
  },
  {
   "cell_type": "markdown",
   "id": "526f20b6-9efb-4085-bab4-7c45b52ebf45",
   "metadata": {},
   "source": [
    "## Finalizamos uniendo las serie de las expensas con la original."
   ]
  },
  {
   "cell_type": "code",
   "execution_count": null,
   "id": "a94bd2cc-2ee8-40ac-8a76-0401676305a6",
   "metadata": {},
   "outputs": [],
   "source": [
    "DatosZonaProp.loc[~DatosZonaProp['id_zonaprop'].isin(con_expen['id_zonaprop']), 'expensas'] = np.nan"
   ]
  },
  {
   "cell_type": "markdown",
   "id": "fddbdf84-d8ac-4f02-8439-2666e92f79c7",
   "metadata": {},
   "source": [
    "# Finalmente, así quedan las distribuciones dentro del dataset:"
   ]
  },
  {
   "cell_type": "code",
   "execution_count": null,
   "id": "d473fb0f-d519-43ca-8749-6c7935860a66",
   "metadata": {},
   "outputs": [],
   "source": [
    "DatosZonaProp.hist(DatosZonaProp.columns.difference(['id_zonaprop'], sort=False),figsize=(10,8));"
   ]
  },
  {
   "cell_type": "code",
   "execution_count": null,
   "id": "07385475-956d-4fb3-a76b-bbc02b23c07d",
   "metadata": {},
   "outputs": [],
   "source": [
    "DatosZonaProp.describe()"
   ]
  },
  {
   "cell_type": "code",
   "execution_count": null,
   "id": "5d98917f-9a24-4631-b7b8-370186c566fe",
   "metadata": {},
   "outputs": [],
   "source": [
    "#Creo un DataFrame con los datos ya limpios.\n",
    "DatosZonaProp.to_csv('DatosZonaProp_limpios_v3.csv', index=False)"
   ]
  }
 ],
 "metadata": {
  "kernelspec": {
   "display_name": "Python (nuevo_env)",
   "language": "python",
   "name": "nuevo_env"
  },
  "language_info": {
   "codemirror_mode": {
    "name": "ipython",
    "version": 3
   },
   "file_extension": ".py",
   "mimetype": "text/x-python",
   "name": "python",
   "nbconvert_exporter": "python",
   "pygments_lexer": "ipython3",
   "version": "3.13.5"
  }
 },
 "nbformat": 4,
 "nbformat_minor": 5
}
